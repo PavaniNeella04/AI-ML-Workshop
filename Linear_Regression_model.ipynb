{
  "nbformat": 4,
  "nbformat_minor": 0,
  "metadata": {
    "colab": {
      "provenance": []
    },
    "kernelspec": {
      "name": "python3",
      "display_name": "Python 3"
    },
    "language_info": {
      "name": "python"
    }
  },
  "cells": [
    {
      "cell_type": "code",
      "execution_count": null,
      "metadata": {
        "colab": {
          "base_uri": "https://localhost:8080/",
          "height": 317
        },
        "id": "IFuxeyTogK61",
        "outputId": "07529523-1100-40f8-d98a-2b6ac28af97b"
      },
      "outputs": [
        {
          "output_type": "stream",
          "name": "stdout",
          "text": [
            "m [0.2049218]\n",
            "c 33.35771235817235\n",
            "[39.91521006]\n"
          ]
        },
        {
          "output_type": "display_data",
          "data": {
            "text/plain": [
              "<Figure size 432x288 with 1 Axes>"
            ],
            "image/png": "[encoded data removed]"
          },
          "metadata": {
            "needs_background": "light"
          }
        }
      ],
      "source": [
        "import matplotlib.pyplot as plt\n",
        "from sklearn import linear_model\n",
        "x=[[23],[25],[45],[67],[86],[90]]\n",
        "y=[45,34,34,56,53,47]\n",
        "plt.scatter(x,y)\n",
        "model=linear_model.LinearRegression()\n",
        "model.fit(x,y)\n",
        "plt.plot(x,model.predict(x),color='r')\n",
        "plt.scatter([[32]],model.predict([[32]]),color='g',s=30)\n",
        "print('m',model.coef_)\n",
        "print('c',model.intercept_)\n",
        "print(model.predict([[32]]))\n",
        "plt.show()"
      ]
    }
  ]
}