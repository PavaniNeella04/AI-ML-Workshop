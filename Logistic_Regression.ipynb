{
  "nbformat": 4,
  "nbformat_minor": 0,
  "metadata": {
    "colab": {
      "provenance": []
    },
    "kernelspec": {
      "name": "python3",
      "display_name": "Python 3"
    },
    "language_info": {
      "name": "python"
    }
  },
  "cells": [
    {
      "cell_type": "code",
      "execution_count": null,
      "metadata": {
        "colab": {
          "base_uri": "https://localhost:8080/"
        },
        "id": "mYUAZpfZiOcH",
        "outputId": "fa0ff53e-41d1-45a4-dbe3-2a08a7771867"
      },
      "outputs": [
        {
          "output_type": "stream",
          "name": "stdout",
          "text": [
            "[1]\n"
          ]
        }
      ],
      "source": [
        "import numpy as np\n",
        "import matplotlib.pyplot as plt\n",
        "from sklearn import linear_model\n",
        "x=np.array([1.23,2.56,3.89,4.89,5.56,6.62,7.56,8.56,9.69,10.09]).reshape(-1,1)\n",
        "y=np.array([0,0,0,0,0,1,1,1,1,1])\n",
        "modellog=linear_model.LogisticRegression()\n",
        "modellog.fit(x,y)\n",
        "pd=modellog.predict(np.array([9.09]).reshape(-1,1))\n",
        "print(pd)"
      ]
    }
  ]
}